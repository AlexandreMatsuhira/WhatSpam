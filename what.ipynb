{
 "cells": [
  {
   "cell_type": "code",
   "execution_count": 1,
   "id": "294e1df8",
   "metadata": {},
   "outputs": [
    {
     "name": "stdout",
     "output_type": "stream",
     "text": [
      "Collecting selenium\n",
      "  Obtaining dependency information for selenium from https://files.pythonhosted.org/packages/fc/df/a8972c41279fc9e9404cad87bc1f4d6d3d824b84c5c072dca0e986a89680/selenium-4.14.0-py3-none-any.whl.metadata\n",
      "  Downloading selenium-4.14.0-py3-none-any.whl.metadata (6.9 kB)\n",
      "Requirement already satisfied: urllib3[socks]<3,>=1.26 in c:\\programdata\\anaconda3\\lib\\site-packages (from selenium) (1.26.16)\n",
      "Collecting trio~=0.17 (from selenium)\n",
      "  Obtaining dependency information for trio~=0.17 from https://files.pythonhosted.org/packages/a3/dd/b61fa61b186d3267ef3903048fbee29132963ae762fb70b08d4a3cd6f7aa/trio-0.22.2-py3-none-any.whl.metadata\n",
      "  Downloading trio-0.22.2-py3-none-any.whl.metadata (4.7 kB)\n",
      "Collecting trio-websocket~=0.9 (from selenium)\n",
      "  Obtaining dependency information for trio-websocket~=0.9 from https://files.pythonhosted.org/packages/48/be/a9ae5f50cad5b6f85bd2574c2c923730098530096e170c1ce7452394d7aa/trio_websocket-0.11.1-py3-none-any.whl.metadata\n",
      "  Downloading trio_websocket-0.11.1-py3-none-any.whl.metadata (4.7 kB)\n",
      "Requirement already satisfied: certifi>=2021.10.8 in c:\\programdata\\anaconda3\\lib\\site-packages (from selenium) (2023.7.22)\n",
      "Requirement already satisfied: attrs>=20.1.0 in c:\\programdata\\anaconda3\\lib\\site-packages (from trio~=0.17->selenium) (22.1.0)\n",
      "Requirement already satisfied: sortedcontainers in c:\\programdata\\anaconda3\\lib\\site-packages (from trio~=0.17->selenium) (2.4.0)\n",
      "Requirement already satisfied: idna in c:\\programdata\\anaconda3\\lib\\site-packages (from trio~=0.17->selenium) (3.4)\n",
      "Collecting outcome (from trio~=0.17->selenium)\n",
      "  Downloading outcome-1.2.0-py2.py3-none-any.whl (9.7 kB)\n",
      "Requirement already satisfied: sniffio in c:\\programdata\\anaconda3\\lib\\site-packages (from trio~=0.17->selenium) (1.2.0)\n",
      "Requirement already satisfied: cffi>=1.14 in c:\\programdata\\anaconda3\\lib\\site-packages (from trio~=0.17->selenium) (1.15.1)\n",
      "Collecting wsproto>=0.14 (from trio-websocket~=0.9->selenium)\n",
      "  Downloading wsproto-1.2.0-py3-none-any.whl (24 kB)\n",
      "Requirement already satisfied: PySocks!=1.5.7,<2.0,>=1.5.6 in c:\\programdata\\anaconda3\\lib\\site-packages (from urllib3[socks]<3,>=1.26->selenium) (1.7.1)\n",
      "Requirement already satisfied: pycparser in c:\\programdata\\anaconda3\\lib\\site-packages (from cffi>=1.14->trio~=0.17->selenium) (2.21)\n",
      "Collecting h11<1,>=0.9.0 (from wsproto>=0.14->trio-websocket~=0.9->selenium)\n",
      "  Downloading h11-0.14.0-py3-none-any.whl (58 kB)\n",
      "     ---------------------------------------- 0.0/58.3 kB ? eta -:--:--\n",
      "     ---------------------------------------- 58.3/58.3 kB 3.2 MB/s eta 0:00:00\n",
      "Downloading selenium-4.14.0-py3-none-any.whl (9.9 MB)\n",
      "   ---------------------------------------- 0.0/9.9 MB ? eta -:--:--\n",
      "    --------------------------------------- 0.2/9.9 MB 6.9 MB/s eta 0:00:02\n",
      "   -- ------------------------------------- 0.7/9.9 MB 8.3 MB/s eta 0:00:02\n",
      "   --- ------------------------------------ 1.0/9.9 MB 8.6 MB/s eta 0:00:02\n",
      "   ----- ---------------------------------- 1.3/9.9 MB 8.1 MB/s eta 0:00:02\n",
      "   -------- ------------------------------- 2.1/9.9 MB 10.3 MB/s eta 0:00:01\n",
      "   ---------- ----------------------------- 2.6/9.9 MB 10.3 MB/s eta 0:00:01\n",
      "   ----------- ---------------------------- 2.8/9.9 MB 10.4 MB/s eta 0:00:01\n",
      "   ------------ --------------------------- 3.1/9.9 MB 9.5 MB/s eta 0:00:01\n",
      "   --------------- ------------------------ 3.9/9.9 MB 11.0 MB/s eta 0:00:01\n",
      "   ----------------- ---------------------- 4.3/9.9 MB 10.9 MB/s eta 0:00:01\n",
      "   ------------------- -------------------- 4.7/9.9 MB 10.4 MB/s eta 0:00:01\n",
      "   --------------------- ------------------ 5.3/9.9 MB 10.5 MB/s eta 0:00:01\n",
      "   ----------------------- ---------------- 5.8/9.9 MB 10.6 MB/s eta 0:00:01\n",
      "   ------------------------ --------------- 6.2/9.9 MB 10.7 MB/s eta 0:00:01\n",
      "   --------------------------- ------------ 6.7/9.9 MB 10.8 MB/s eta 0:00:01\n",
      "   ----------------------------- ---------- 7.2/9.9 MB 10.5 MB/s eta 0:00:01\n",
      "   ------------------------------- -------- 7.8/9.9 MB 10.6 MB/s eta 0:00:01\n",
      "   --------------------------------- ------ 8.2/9.9 MB 10.7 MB/s eta 0:00:01\n",
      "   ---------------------------------- ----- 8.7/9.9 MB 10.7 MB/s eta 0:00:01\n",
      "   ------------------------------------ --- 9.0/9.9 MB 10.7 MB/s eta 0:00:01\n",
      "   -------------------------------------- - 9.5/9.9 MB 10.6 MB/s eta 0:00:01\n",
      "   ---------------------------------------  9.9/9.9 MB 10.8 MB/s eta 0:00:01\n",
      "   ---------------------------------------  9.9/9.9 MB 10.8 MB/s eta 0:00:01\n",
      "   ---------------------------------------- 9.9/9.9 MB 9.8 MB/s eta 0:00:00\n",
      "Downloading trio-0.22.2-py3-none-any.whl (400 kB)\n",
      "   ---------------------------------------- 0.0/400.2 kB ? eta -:--:--\n",
      "   --------------------------------------- 400.2/400.2 kB 24.4 MB/s eta 0:00:00\n",
      "Downloading trio_websocket-0.11.1-py3-none-any.whl (17 kB)\n",
      "Installing collected packages: outcome, h11, wsproto, trio, trio-websocket, selenium\n",
      "Successfully installed h11-0.14.0 outcome-1.2.0 selenium-4.14.0 trio-0.22.2 trio-websocket-0.11.1 wsproto-1.2.0\n"
     ]
    }
   ],
   "source": [
    "!pip install selenium"
   ]
  },
  {
   "cell_type": "code",
   "execution_count": 1,
   "id": "070ab959",
   "metadata": {},
   "outputs": [],
   "source": [
    "from selenium import webdriver\n",
    "from selenium.webdriver.common.keys import Keys\n",
    "from selenium.webdriver.common.by import By"
   ]
  },
  {
   "cell_type": "code",
   "execution_count": null,
   "id": "21dd194e",
   "metadata": {},
   "outputs": [],
   "source": []
  }
 ],
 "metadata": {
  "kernelspec": {
   "display_name": "Python 3 (ipykernel)",
   "language": "python",
   "name": "python3"
  },
  "language_info": {
   "codemirror_mode": {
    "name": "ipython",
    "version": 3
   },
   "file_extension": ".py",
   "mimetype": "text/x-python",
   "name": "python",
   "nbconvert_exporter": "python",
   "pygments_lexer": "ipython3",
   "version": "3.11.5"
  }
 },
 "nbformat": 4,
 "nbformat_minor": 5
}
